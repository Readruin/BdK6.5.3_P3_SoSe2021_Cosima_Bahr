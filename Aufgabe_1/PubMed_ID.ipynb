{
 "cells": [
  {
   "cell_type": "markdown",
   "metadata": {},
   "source": [
    "# Aufgabe 1"
   ]
  },
  {
   "cell_type": "markdown",
   "metadata": {},
   "source": [
    "Erstellen Sie ein Jupyter Notebook oder ein Python-Script. Darin sollen äquivalent zudem gemeinsam durchgeführten DOI/CrossRef-Beispiel Metadaten für gegebene PubMed-IDs mittels Python bezogen und dargestellt werden. "
   ]
  },
  {
   "cell_type": "code",
   "execution_count": 160,
   "metadata": {},
   "outputs": [],
   "source": [
    "import urllib.request\n",
    "import json"
   ]
  },
  {
   "cell_type": "code",
   "execution_count": 161,
   "metadata": {},
   "outputs": [],
   "source": [
    "base_url = \"https://eutils.ncbi.nlm.nih.gov/entrez/eutils/esummary.fcgi?db=pubmed&retmode=json&id=\"\n",
    "pubmed_id = \"31452104\"\n",
    "full_url = base_url + pubmed_id"
   ]
  },
  {
   "cell_type": "code",
   "execution_count": 162,
   "metadata": {},
   "outputs": [],
   "source": [
    "id_json_data = urllib.request.urlopen(full_url).read()"
   ]
  },
  {
   "cell_type": "code",
   "execution_count": 163,
   "metadata": {},
   "outputs": [
    {
     "data": {
      "text/plain": [
       "bytes"
      ]
     },
     "execution_count": 163,
     "metadata": {},
     "output_type": "execute_result"
    }
   ],
   "source": [
    "type(id_json_data)"
   ]
  },
  {
   "cell_type": "code",
   "execution_count": 164,
   "metadata": {},
   "outputs": [],
   "source": [
    "id_data = json.loads(id_json_data)"
   ]
  },
  {
   "cell_type": "code",
   "execution_count": 165,
   "metadata": {},
   "outputs": [
    {
     "data": {
      "text/plain": [
       "dict"
      ]
     },
     "execution_count": 165,
     "metadata": {},
     "output_type": "execute_result"
    }
   ],
   "source": [
    "type(id_data)"
   ]
  },
  {
   "cell_type": "code",
   "execution_count": 166,
   "metadata": {},
   "outputs": [
    {
     "name": "stdout",
     "output_type": "stream",
     "text": [
      "{'header': {'type': 'esummary', 'version': '0.3'}, 'result': {'uids': ['31452104'], '31452104': {'uid': '31452104', 'pubdate': '2019', 'epubdate': '', 'source': 'Methods Mol Biol', 'authors': [{'name': 'Bitencourt-Ferreira G', 'authtype': 'Author', 'clusterid': ''}, {'name': 'de Azevedo WF Jr', 'authtype': 'Author', 'clusterid': ''}], 'lastauthor': 'de Azevedo WF Jr', 'title': 'Molegro Virtual Docker for Docking.', 'sorttitle': 'molegro virtual docker for docking', 'volume': '2053', 'issue': '', 'pages': '149-167', 'lang': ['eng'], 'nlmuniqueid': '9214969', 'issn': '1064-3745', 'essn': '1940-6029', 'pubtype': ['Journal Article'], 'recordstatus': 'PubMed - indexed for MEDLINE', 'pubstatus': '4', 'articleids': [{'idtype': 'pubmed', 'idtypen': 1, 'value': '31452104'}, {'idtype': 'doi', 'idtypen': 3, 'value': '10.1007/978-1-4939-9752-7_10'}, {'idtype': 'rid', 'idtypen': 8, 'value': '31452104'}, {'idtype': 'eid', 'idtypen': 8, 'value': '31452104'}], 'history': [{'pubstatus': 'entrez', 'date': '2019/08/28 06:00'}, {'pubstatus': 'pubmed', 'date': '2019/08/28 06:00'}, {'pubstatus': 'medline', 'date': '2020/06/20 06:00'}], 'references': [], 'attributes': ['Has Abstract'], 'pmcrefcount': 4, 'fulljournalname': 'Methods in molecular biology (Clifton, N.J.)', 'elocationid': 'doi: 10.1007/978-1-4939-9752-7_10', 'doctype': 'citation', 'srccontriblist': [], 'booktitle': '', 'medium': '', 'edition': '', 'publisherlocation': '', 'publishername': '', 'srcdate': '', 'reportnumber': '', 'availablefromurl': '', 'locationlabel': '', 'doccontriblist': [], 'docdate': '', 'bookname': '', 'chapter': '', 'sortpubdate': '2019/01/01 00:00', 'sortfirstauthor': 'Bitencourt-Ferreira G', 'vernaculartitle': ''}}}\n"
     ]
    }
   ],
   "source": [
    "print(id_data)"
   ]
  },
  {
   "cell_type": "code",
   "execution_count": 167,
   "metadata": {},
   "outputs": [
    {
     "name": "stdout",
     "output_type": "stream",
     "text": [
      "dict_keys(['uids', '31452104'])\n"
     ]
    }
   ],
   "source": [
    "print(id_data[\"result\"].keys())"
   ]
  },
  {
   "cell_type": "code",
   "execution_count": 168,
   "metadata": {},
   "outputs": [
    {
     "data": {
      "text/plain": [
       "dict_keys(['header', 'result'])"
      ]
     },
     "execution_count": 168,
     "metadata": {},
     "output_type": "execute_result"
    }
   ],
   "source": [
    "id_data.keys()"
   ]
  },
  {
   "cell_type": "code",
   "execution_count": 170,
   "metadata": {},
   "outputs": [
    {
     "name": "stdout",
     "output_type": "stream",
     "text": [
      "Molegro Virtual Docker for Docking.\n"
     ]
    }
   ],
   "source": [
    "print(id_data[\"result\"][\"31452104\"][\"title\"])"
   ]
  },
  {
   "cell_type": "code",
   "execution_count": 171,
   "metadata": {},
   "outputs": [
    {
     "name": "stdout",
     "output_type": "stream",
     "text": [
      "{\n",
      "    \"header\": {\n",
      "        \"type\": \"esummary\",\n",
      "        \"version\": \"0.3\"\n",
      "    },\n",
      "    \"result\": {\n",
      "        \"uids\": [\n",
      "            \"31452104\"\n",
      "        ],\n",
      "        \"31452104\": {\n",
      "            \"uid\": \"31452104\",\n",
      "            \"pubdate\": \"2019\",\n",
      "            \"epubdate\": \"\",\n",
      "            \"source\": \"Methods Mol Biol\",\n",
      "            \"authors\": [\n",
      "                {\n",
      "                    \"name\": \"Bitencourt-Ferreira G\",\n",
      "                    \"authtype\": \"Author\",\n",
      "                    \"clusterid\": \"\"\n",
      "                },\n",
      "                {\n",
      "                    \"name\": \"de Azevedo WF Jr\",\n",
      "                    \"authtype\": \"Author\",\n",
      "                    \"clusterid\": \"\"\n",
      "                }\n",
      "            ],\n",
      "            \"lastauthor\": \"de Azevedo WF Jr\",\n",
      "            \"title\": \"Molegro Virtual Docker for Docking.\",\n",
      "            \"sorttitle\": \"molegro virtual docker for docking\",\n",
      "            \"volume\": \"2053\",\n",
      "            \"issue\": \"\",\n",
      "            \"pages\": \"149-167\",\n",
      "            \"lang\": [\n",
      "                \"eng\"\n",
      "            ],\n",
      "            \"nlmuniqueid\": \"9214969\",\n",
      "            \"issn\": \"1064-3745\",\n",
      "            \"essn\": \"1940-6029\",\n",
      "            \"pubtype\": [\n",
      "                \"Journal Article\"\n",
      "            ],\n",
      "            \"recordstatus\": \"PubMed - indexed for MEDLINE\",\n",
      "            \"pubstatus\": \"4\",\n",
      "            \"articleids\": [\n",
      "                {\n",
      "                    \"idtype\": \"pubmed\",\n",
      "                    \"idtypen\": 1,\n",
      "                    \"value\": \"31452104\"\n",
      "                },\n",
      "                {\n",
      "                    \"idtype\": \"doi\",\n",
      "                    \"idtypen\": 3,\n",
      "                    \"value\": \"10.1007/978-1-4939-9752-7_10\"\n",
      "                },\n",
      "                {\n",
      "                    \"idtype\": \"rid\",\n",
      "                    \"idtypen\": 8,\n",
      "                    \"value\": \"31452104\"\n",
      "                },\n",
      "                {\n",
      "                    \"idtype\": \"eid\",\n",
      "                    \"idtypen\": 8,\n",
      "                    \"value\": \"31452104\"\n",
      "                }\n",
      "            ],\n",
      "            \"history\": [\n",
      "                {\n",
      "                    \"pubstatus\": \"entrez\",\n",
      "                    \"date\": \"2019/08/28 06:00\"\n",
      "                },\n",
      "                {\n",
      "                    \"pubstatus\": \"pubmed\",\n",
      "                    \"date\": \"2019/08/28 06:00\"\n",
      "                },\n",
      "                {\n",
      "                    \"pubstatus\": \"medline\",\n",
      "                    \"date\": \"2020/06/20 06:00\"\n",
      "                }\n",
      "            ],\n",
      "            \"references\": [],\n",
      "            \"attributes\": [\n",
      "                \"Has Abstract\"\n",
      "            ],\n",
      "            \"pmcrefcount\": 4,\n",
      "            \"fulljournalname\": \"Methods in molecular biology (Clifton, N.J.)\",\n",
      "            \"elocationid\": \"doi: 10.1007/978-1-4939-9752-7_10\",\n",
      "            \"doctype\": \"citation\",\n",
      "            \"srccontriblist\": [],\n",
      "            \"booktitle\": \"\",\n",
      "            \"medium\": \"\",\n",
      "            \"edition\": \"\",\n",
      "            \"publisherlocation\": \"\",\n",
      "            \"publishername\": \"\",\n",
      "            \"srcdate\": \"\",\n",
      "            \"reportnumber\": \"\",\n",
      "            \"availablefromurl\": \"\",\n",
      "            \"locationlabel\": \"\",\n",
      "            \"doccontriblist\": [],\n",
      "            \"docdate\": \"\",\n",
      "            \"bookname\": \"\",\n",
      "            \"chapter\": \"\",\n",
      "            \"sortpubdate\": \"2019/01/01 00:00\",\n",
      "            \"sortfirstauthor\": \"Bitencourt-Ferreira G\",\n",
      "            \"vernaculartitle\": \"\"\n",
      "        }\n",
      "    }\n",
      "}\n"
     ]
    }
   ],
   "source": [
    "print(json.dumps(id_data,indent=4))"
   ]
  },
  {
   "cell_type": "code",
   "execution_count": 173,
   "metadata": {},
   "outputs": [
    {
     "name": "stdout",
     "output_type": "stream",
     "text": [
      "Molegro Virtual Docker for Docking.\n"
     ]
    }
   ],
   "source": [
    "print(id_data[\"result\"][\"31452104\"][\"title\"])"
   ]
  },
  {
   "cell_type": "code",
   "execution_count": 174,
   "metadata": {},
   "outputs": [
    {
     "name": "stdout",
     "output_type": "stream",
     "text": [
      "2019\n"
     ]
    }
   ],
   "source": [
    "print(id_data[\"result\"][\"31452104\"][\"pubdate\"])"
   ]
  },
  {
   "cell_type": "code",
   "execution_count": 175,
   "metadata": {},
   "outputs": [],
   "source": [
    "pubmed_IDs = [\"31452104\", \"31437182\", \"31455877\", \"31535994\", \"27708327\"]"
   ]
  },
  {
   "cell_type": "code",
   "execution_count": 176,
   "metadata": {},
   "outputs": [
    {
     "name": "stdout",
     "output_type": "stream",
     "text": [
      "31452104\n",
      "31437182\n",
      "31455877\n",
      "31535994\n",
      "27708327\n"
     ]
    }
   ],
   "source": [
    "for element in pubmed_IDs:\n",
    "    print(element)"
   ]
  },
  {
   "cell_type": "code",
   "execution_count": 177,
   "metadata": {
    "scrolled": true
   },
   "outputs": [
    {
     "name": "stdout",
     "output_type": "stream",
     "text": [
      "https://eutils.ncbi.nlm.nih.gov/entrez/eutils/esummary.fcgi?db=pubmed&retmode=json&id=31452104\n",
      "--------------------\n",
      "https://eutils.ncbi.nlm.nih.gov/entrez/eutils/esummary.fcgi?db=pubmed&retmode=json&id=31437182\n",
      "--------------------\n",
      "https://eutils.ncbi.nlm.nih.gov/entrez/eutils/esummary.fcgi?db=pubmed&retmode=json&id=31455877\n",
      "--------------------\n",
      "https://eutils.ncbi.nlm.nih.gov/entrez/eutils/esummary.fcgi?db=pubmed&retmode=json&id=31535994\n",
      "--------------------\n",
      "https://eutils.ncbi.nlm.nih.gov/entrez/eutils/esummary.fcgi?db=pubmed&retmode=json&id=27708327\n",
      "--------------------\n"
     ]
    }
   ],
   "source": [
    "for element in pubmed_IDs:\n",
    "    print(base_url + element)\n",
    "    print(\"--------------------\")"
   ]
  },
  {
   "cell_type": "code",
   "execution_count": 178,
   "metadata": {},
   "outputs": [
    {
     "name": "stdout",
     "output_type": "stream",
     "text": [
      "Molegro Virtual Docker for Docking. 2019\n",
      "--------------------\n",
      "TreeCluster: Clustering biological sequences using phylogenetic trees. 2019\n",
      "--------------------\n",
      "Principles of open source bioinstrumentation applied to the poseidon syringe pump system. 2019 Aug 27\n",
      "--------------------\n",
      "Aggregation Signature for Small Object Tracking. 2019 Sep 16\n",
      "--------------------\n",
      "Democratic databases: science on GitHub. 2016 Oct 6\n",
      "--------------------\n"
     ]
    }
   ],
   "source": [
    "for element in pubmed_IDs:\n",
    "    full_url = base_url + element\n",
    "    id_json_data = urllib.request.urlopen(full_url).read()\n",
    "    id_data = json.loads(id_json_data)\n",
    "    print(id_data[\"result\"][element][\"title\"] + \" \" + id_data[\"result\"][element][\"pubdate\"])\n",
    "    print(\"--------------------\")"
   ]
  },
  {
   "cell_type": "code",
   "execution_count": 179,
   "metadata": {},
   "outputs": [
    {
     "name": "stdout",
     "output_type": "stream",
     "text": [
      "Molegro Virtual Docker for Docking. 2019\n",
      "--------------------\n",
      "TreeCluster: Clustering biological sequences using phylogenetic trees. 2019\n",
      "--------------------\n",
      "Principles of open source bioinstrumentation applied to the poseidon syringe pump system. 2019 Aug 27\n",
      "--------------------\n",
      "Aggregation Signature for Small Object Tracking. 2019 Sep 16\n",
      "--------------------\n",
      "Democratic databases: science on GitHub. 2016 Oct 6\n",
      "--------------------\n"
     ]
    }
   ],
   "source": [
    "for element in pubmed_IDs:\n",
    "    full_url = base_url + element\n",
    "    id_json_data = urllib.request.urlopen(full_url).read()\n",
    "    id_data = json.loads(id_json_data)\n",
    "    \n",
    "    titel = id_data[\"result\"][element][\"title\"]\n",
    "    datum = id_data[\"result\"][element][\"pubdate\"]\n",
    "    print(f\"{titel} {datum}\")\n",
    "    print(\"--------------------\")"
   ]
  },
  {
   "cell_type": "code",
   "execution_count": 143,
   "metadata": {},
   "outputs": [],
   "source": [
    "#doi = \"sdf\"\n",
    "#pmid = \"sfgj\"\n",
    "#print(doi + \" ist keine DOI und \" + pmid + \" ist keine PubMed ID \")"
   ]
  },
  {
   "cell_type": "code",
   "execution_count": 144,
   "metadata": {},
   "outputs": [],
   "source": [
    "#print (f\"{doi} ist keine DOI, {pmid} ist keine PMID.\")"
   ]
  },
  {
   "cell_type": "code",
   "execution_count": null,
   "metadata": {},
   "outputs": [],
   "source": []
  },
  {
   "cell_type": "code",
   "execution_count": null,
   "metadata": {},
   "outputs": [],
   "source": []
  }
 ],
 "metadata": {
  "kernelspec": {
   "display_name": "Python 3",
   "language": "python",
   "name": "python3"
  }
 },
 "nbformat": 4,
 "nbformat_minor": 4
}
