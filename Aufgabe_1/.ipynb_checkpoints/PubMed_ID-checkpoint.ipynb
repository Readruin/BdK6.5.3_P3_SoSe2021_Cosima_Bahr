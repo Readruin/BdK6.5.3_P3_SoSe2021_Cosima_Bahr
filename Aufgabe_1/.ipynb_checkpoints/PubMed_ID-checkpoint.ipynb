{
 "cells": [
  {
   "cell_type": "markdown",
   "metadata": {},
   "source": [
    "Erstellen Sie ein Jupyter Notebook oder ein Python-Script. Darin sollen äquivalent zudem gemeinsam durchgeführten DOI/CrossRef-Beispiel Metadaten für gegebene PubMed-IDs mittels Python bezogen und dargestellt werden. "
   ]
  },
  {
   "cell_type": "code",
   "execution_count": 1,
   "metadata": {},
   "outputs": [],
   "source": [
    "import urllib.request\n",
    "import json"
   ]
  },
  {
   "cell_type": "code",
   "execution_count": 2,
   "metadata": {},
   "outputs": [],
   "source": [
    "base_url = \"https://eutils.ncbi.nlm.nih.gov/entrez/eutils/esummary.fcgi?db=pubmed&retmode=json&id=27708327\"\n",
    "doi = \"\"\n",
    "full_url = base_url + doi"
   ]
  },
  {
   "cell_type": "code",
   "execution_count": 3,
   "metadata": {},
   "outputs": [],
   "source": [
    "doi_json_data = urllib.request.urlopen(full_url).read()"
   ]
  },
  {
   "cell_type": "code",
   "execution_count": 4,
   "metadata": {},
   "outputs": [
    {
     "data": {
      "text/plain": [
       "bytes"
      ]
     },
     "execution_count": 4,
     "metadata": {},
     "output_type": "execute_result"
    }
   ],
   "source": [
    "type(doi_json_data)"
   ]
  },
  {
   "cell_type": "code",
   "execution_count": 5,
   "metadata": {},
   "outputs": [],
   "source": [
    "doi_data = json.loads(doi_json_data)"
   ]
  },
  {
   "cell_type": "code",
   "execution_count": 6,
   "metadata": {},
   "outputs": [
    {
     "data": {
      "text/plain": [
       "dict"
      ]
     },
     "execution_count": 6,
     "metadata": {},
     "output_type": "execute_result"
    }
   ],
   "source": [
    "type (doi_data)"
   ]
  },
  {
   "cell_type": "code",
   "execution_count": 7,
   "metadata": {},
   "outputs": [
    {
     "name": "stdout",
     "output_type": "stream",
     "text": [
      "{'header': {'type': 'esummary', 'version': '0.3'}, 'result': {'uids': ['27708327'], '27708327': {'uid': '27708327', 'pubdate': '2016 Oct 6', 'epubdate': '', 'source': 'Nature', 'authors': [{'name': 'Perkel J', 'authtype': 'Author', 'clusterid': ''}], 'lastauthor': 'Perkel J', 'title': 'Democratic databases: science on GitHub.', 'sorttitle': 'democratic databases science on github', 'volume': '538', 'issue': '7623', 'pages': '127-128', 'lang': ['eng'], 'nlmuniqueid': '0410462', 'issn': '0028-0836', 'essn': '1476-4687', 'pubtype': ['Journal Article'], 'recordstatus': 'PubMed - indexed for MEDLINE', 'pubstatus': '4', 'articleids': [{'idtype': 'pubmed', 'idtypen': 1, 'value': '27708327'}, {'idtype': 'pii', 'idtypen': 4, 'value': '538127a'}, {'idtype': 'doi', 'idtypen': 3, 'value': '10.1038/538127a'}, {'idtype': 'rid', 'idtypen': 8, 'value': '27708327'}, {'idtype': 'eid', 'idtypen': 8, 'value': '27708327'}], 'history': [{'pubstatus': 'entrez', 'date': '2016/10/07 06:00'}, {'pubstatus': 'pubmed', 'date': '2016/10/07 06:00'}, {'pubstatus': 'medline', 'date': '2016/11/03 06:00'}], 'references': [{'refsource': 'Nature. 2016 Oct 31;539(7627):126', 'reftype': 'Erratum in', 'pmid': 27808210, 'note': ''}], 'attributes': [], 'pmcrefcount': 11, 'fulljournalname': 'Nature', 'elocationid': 'doi: 10.1038/538127a', 'doctype': 'citation', 'srccontriblist': [], 'booktitle': '', 'medium': '', 'edition': '', 'publisherlocation': '', 'publishername': '', 'srcdate': '', 'reportnumber': '', 'availablefromurl': '', 'locationlabel': '', 'doccontriblist': [], 'docdate': '', 'bookname': '', 'chapter': '', 'sortpubdate': '2016/10/06 00:00', 'sortfirstauthor': 'Perkel J', 'vernaculartitle': ''}}}\n"
     ]
    }
   ],
   "source": [
    "print (doi_data)"
   ]
  },
  {
   "cell_type": "code",
   "execution_count": null,
   "metadata": {},
   "outputs": [],
   "source": []
  }
 ],
 "metadata": {
  "kernelspec": {
   "display_name": "Python 3",
   "language": "python",
   "name": "python3"
  },
  "language_info": {
   "codemirror_mode": {
    "name": "ipython",
    "version": 3
   },
   "file_extension": ".py",
   "mimetype": "text/x-python",
   "name": "python",
   "nbconvert_exporter": "python",
   "pygments_lexer": "ipython3",
   "version": "3.8.5"
  }
 },
 "nbformat": 4,
 "nbformat_minor": 4
}
