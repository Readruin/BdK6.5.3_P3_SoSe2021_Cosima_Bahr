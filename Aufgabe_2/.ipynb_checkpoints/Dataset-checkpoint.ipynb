{
 "cells": [
  {
   "cell_type": "markdown",
   "metadata": {},
   "source": [
    "# Aufgabe 2"
   ]
  },
  {
   "cell_type": "markdown",
   "metadata": {},
   "source": [
    "Finden Sie eine offenes Datenset und versuchen Sie mittels Python Fragen zu beantworten, Hypothesen zu belegen/widerlegen oder Daten zu visualisieren. Es müssen mindestens drei unterschiedliche Fragen, Hypothesen oder Visualisierungen sein. Erstellen\n",
    "Sie dazu ein Jupyter Notebook (oder ein Python-Script) mit folgenden Abschnitten - im\n",
    "Jupyter Notebook nutzen Sie bitte Markdownzellen für diese Dokumentation:\n",
    "\n",
    "• Beschreibung des Datensets (150 - 300 Wörter)\n",
    "\n",
    "• Fragestellungen (200 - 500 Wörter)\n",
    "\n",
    "• Datenanalyse in Python mit Kommentaren was und warum Sie bestimmte Schritte\n",
    "gemacht haben ggf. auch kurze Erläuterung der Ergebnisse\n",
    "\n",
    "• Diskussion (150 - 300 Wörter)"
   ]
  },
  {
   "cell_type": "markdown",
   "metadata": {},
   "source": [
    "## Beschreibung des Datensets\n",
    "Zur Datenanalyse wurde das Datenset „title.basics.tsv.gz“ der IMDb Datasets ausgewählt. Dieses Set enthält Basisinformationen zu den dort vorhandenen Filmtiteln. Die insgesamt neun Spalten, informieren beispielsweise über das Erscheinungsjahr oder den Beginn einer Serie, den Titel in der Originalsprache und das Genre."
   ]
  },
  {
   "cell_type": "markdown",
   "metadata": {},
   "source": [
    "## Fragestellungen\n",
    "\n",
    "1. Wie viele Filme sind vor 1901 erschienen?\n",
    "\n",
    "2. Warum mache ich das hier?\n",
    "\n",
    "3. Ich verstehe nichts."
   ]
  },
  {
   "cell_type": "markdown",
   "metadata": {},
   "source": [
    "## Diskussion\n",
    "\n",
    "Wenn ich wüsste was ich tue, könnte hier etwas stehen."
   ]
  },
  {
   "cell_type": "code",
   "execution_count": null,
   "metadata": {},
   "outputs": [],
   "source": []
  },
  {
   "cell_type": "code",
   "execution_count": 92,
   "metadata": {},
   "outputs": [],
   "source": [
    "import pandas as pd\n",
    "import seaborn as sns\n",
    "import matplotlib.pyplot as plt\n",
    "import csv"
   ]
  },
  {
   "cell_type": "code",
   "execution_count": null,
   "metadata": {},
   "outputs": [],
   "source": [
    "url = \"https://datasets.imdbws.com/title.basics.tsv.gz\"\n",
    "imdb = pd.read_csv(url)"
   ]
  },
  {
   "cell_type": "code",
   "execution_count": null,
   "metadata": {
    "scrolled": false
   },
   "outputs": [],
   "source": [
    "imdb"
   ]
  },
  {
   "cell_type": "code",
   "execution_count": null,
   "metadata": {},
   "outputs": [],
   "source": [
    "print (imdb)"
   ]
  },
  {
   "cell_type": "markdown",
   "metadata": {},
   "source": [
    "#### 1: Wie viele Filme sind vor 1901 erschienen?"
   ]
  },
  {
   "cell_type": "code",
   "execution_count": null,
   "metadata": {},
   "outputs": [],
   "source": [
    "def "
   ]
  },
  {
   "cell_type": "code",
   "execution_count": null,
   "metadata": {},
   "outputs": [],
   "source": []
  }
 ],
 "metadata": {
  "kernelspec": {
   "display_name": "Python 3",
   "language": "python",
   "name": "python3"
  },
  "language_info": {
   "codemirror_mode": {
    "name": "ipython",
    "version": 3
   },
   "file_extension": ".py",
   "mimetype": "text/x-python",
   "name": "python",
   "nbconvert_exporter": "python",
   "pygments_lexer": "ipython3",
   "version": "3.8.5"
  }
 },
 "nbformat": 4,
 "nbformat_minor": 4
}
