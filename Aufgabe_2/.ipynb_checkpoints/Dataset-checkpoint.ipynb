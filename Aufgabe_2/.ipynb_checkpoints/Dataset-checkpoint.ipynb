{
 "cells": [
  {
   "cell_type": "markdown",
   "metadata": {},
   "source": [
    "# Aufgabe 2"
   ]
  },
  {
   "cell_type": "markdown",
   "metadata": {},
   "source": [
    "Finden Sie eine offenes Datenset und versuchen Sie mittels Python Fragen zu beantworten, Hypothesen zu belegen/widerlegen oder Daten zu visualisieren. Es müssen mindestens drei unterschiedliche Fragen, Hypothesen oder Visualisierungen sein. Erstellen\n",
    "Sie dazu ein Jupyter Notebook (oder ein Python-Script) mit folgenden Abschnitten - im\n",
    "Jupyter Notebook nutzen Sie bitte Markdownzellen für diese Dokumentation:\n",
    "\n",
    "• Beschreibung des Datensets (150 - 300 Wörter)\n",
    "\n",
    "• Fragestellungen (200 - 500 Wörter)\n",
    "\n",
    "• Datenanalyse in Python mit Kommentaren was und warum Sie bestimmte Schritte\n",
    "gemacht haben ggf. auch kurze Erläuterung der Ergebnisse\n",
    "\n",
    "• Diskussion (150 - 300 Wörter)"
   ]
  },
  {
   "cell_type": "code",
   "execution_count": null,
   "metadata": {},
   "outputs": [],
   "source": []
  },
  {
   "cell_type": "markdown",
   "metadata": {},
   "source": [
    "## Beschreibung des Datensets\n",
    "Die IMDb Datasets der Internet Movie Database werden für nicht-kommerzielle und persönliche Zwecke zur Verfügung gestellt. Nutzer*innen können aus sieben verschiedene Datensets auswählen, die täglich aktualisiert werden.\n",
    "\n",
    "https://www.imdb.com/interfaces/ \n",
    "\n",
    "-----------------------------------\n",
    "\n",
    "Für die Aufgabe 2, der Datenanalyse wurde das Datenset „title.ratings.tsv.gz“ der IMDb Datasets ausgewählt. Dieses Set enthält die Ratings und die Anzahl der Stimmen der Nutzer*innen zu den jeweiligen Werken.\n",
    "\n",
    "https://datasets.imdbws.com/ \n"
   ]
  },
  {
   "cell_type": "code",
   "execution_count": null,
   "metadata": {},
   "outputs": [],
   "source": []
  },
  {
   "cell_type": "markdown",
   "metadata": {},
   "source": [
    "## Fragestellungen\n",
    "\n",
    "Anhand folgender Fragen wird das Datenset analysiert:\n",
    "\n",
    "1. Welches Werk besitzt das höchste Rating?\n",
    "\n",
    "    Hierfür wird das \"averageRating\" benötigt.\n",
    "---\n",
    "\n",
    "2. Wie lautet der Median der Spalte \"numVotes\"?\n",
    "\n",
    "    Zur Beantwortung wird \"numVotes\" benötigt.\n",
    "---\n",
    "\n",
    "3. Welche Werke liegen genau über dem Durchschnitt des Ratings?\n",
    "\n",
    "    Die Spalte \"averageRating\" wird benötigt."
   ]
  },
  {
   "cell_type": "code",
   "execution_count": null,
   "metadata": {},
   "outputs": [],
   "source": []
  },
  {
   "cell_type": "markdown",
   "metadata": {},
   "source": [
    "## Diskussion\n",
    "\n",
    "Dieses Datenset wurde ausgewählt, da zum Zeitpunkt der Bearbeitung kein anderes Datenset funktionierte. Aus der langen und komplexen Fehlermeldung wurde mir nur ersichtlich, dass es sich anscheinend um ein Problem innerhalb des Datensets handeln könnte. Zur Vermeidung von Schwierigkeiten wurde diese Tatsache angenommen.\n",
    "\n",
    "Die Fragestellungen zu den Fragen eins und zwei können leicht beantwortet werden. Dazu musste jeweils ein Wert herausgearbeitet werden. Dadurch konnte ein Überblick über das Datenset geschaffen werden. Die restlichen Zeilen innerhalb der jeweiligen Fragen vertiefen diesen Überblick beziehungsweise visualisieren die Werte und zeigen auf, was ebenfalls möglich ist.\n",
    "\n",
    "Die dritte Fragestellung wurde mehrfach verändert und angepasst. Eigentlich sollte herausgefunden werden, wie viele Werke über dem Durchschnitt liegen. Dies wurde aufgrund von verschiedenen Problemen nicht umgesetzt. Das größte Problem, welches ich mir vorher nicht unbedingt bewusst war, ist die Speicherung der Daten in Dataframes. Deswegen funktionierte die Programmierung, die ich ursprünglich angedacht hatte, nicht. Dieser Zustand führte zu vielen Verwerfungen und Änderungen von Programmierung und Fragestellungen.\n"
   ]
  },
  {
   "cell_type": "markdown",
   "metadata": {},
   "source": [
    "---------------"
   ]
  },
  {
   "cell_type": "code",
   "execution_count": 61,
   "metadata": {},
   "outputs": [],
   "source": [
    "import pandas as pd\n",
    "import seaborn as sns\n",
    "import matplotlib.pyplot as plt\n",
    "import csv"
   ]
  },
  {
   "cell_type": "code",
   "execution_count": 62,
   "metadata": {},
   "outputs": [],
   "source": [
    "url = \"https://datasets.imdbws.com/title.ratings.tsv.gz\"\n",
    "imdb = pd.read_csv(url, sep=\"\\t\")\n",
    "\n",
    "# Mithilfe des Parameters sep werden die Werte durch Tabulatoren separiert."
   ]
  },
  {
   "cell_type": "code",
   "execution_count": 63,
   "metadata": {
    "scrolled": false
   },
   "outputs": [
    {
     "data": {
      "text/html": [
       "<div>\n",
       "<style scoped>\n",
       "    .dataframe tbody tr th:only-of-type {\n",
       "        vertical-align: middle;\n",
       "    }\n",
       "\n",
       "    .dataframe tbody tr th {\n",
       "        vertical-align: top;\n",
       "    }\n",
       "\n",
       "    .dataframe thead th {\n",
       "        text-align: right;\n",
       "    }\n",
       "</style>\n",
       "<table border=\"1\" class=\"dataframe\">\n",
       "  <thead>\n",
       "    <tr style=\"text-align: right;\">\n",
       "      <th></th>\n",
       "      <th>tconst</th>\n",
       "      <th>averageRating</th>\n",
       "      <th>numVotes</th>\n",
       "    </tr>\n",
       "  </thead>\n",
       "  <tbody>\n",
       "    <tr>\n",
       "      <th>0</th>\n",
       "      <td>tt0000001</td>\n",
       "      <td>5.7</td>\n",
       "      <td>1809</td>\n",
       "    </tr>\n",
       "    <tr>\n",
       "      <th>1</th>\n",
       "      <td>tt0000002</td>\n",
       "      <td>6.0</td>\n",
       "      <td>233</td>\n",
       "    </tr>\n",
       "    <tr>\n",
       "      <th>2</th>\n",
       "      <td>tt0000003</td>\n",
       "      <td>6.5</td>\n",
       "      <td>1561</td>\n",
       "    </tr>\n",
       "    <tr>\n",
       "      <th>3</th>\n",
       "      <td>tt0000004</td>\n",
       "      <td>6.1</td>\n",
       "      <td>152</td>\n",
       "    </tr>\n",
       "    <tr>\n",
       "      <th>4</th>\n",
       "      <td>tt0000005</td>\n",
       "      <td>6.2</td>\n",
       "      <td>2382</td>\n",
       "    </tr>\n",
       "    <tr>\n",
       "      <th>...</th>\n",
       "      <td>...</td>\n",
       "      <td>...</td>\n",
       "      <td>...</td>\n",
       "    </tr>\n",
       "    <tr>\n",
       "      <th>1181302</th>\n",
       "      <td>tt9916682</td>\n",
       "      <td>5.6</td>\n",
       "      <td>5</td>\n",
       "    </tr>\n",
       "    <tr>\n",
       "      <th>1181303</th>\n",
       "      <td>tt9916690</td>\n",
       "      <td>6.6</td>\n",
       "      <td>5</td>\n",
       "    </tr>\n",
       "    <tr>\n",
       "      <th>1181304</th>\n",
       "      <td>tt9916720</td>\n",
       "      <td>5.3</td>\n",
       "      <td>127</td>\n",
       "    </tr>\n",
       "    <tr>\n",
       "      <th>1181305</th>\n",
       "      <td>tt9916766</td>\n",
       "      <td>7.1</td>\n",
       "      <td>17</td>\n",
       "    </tr>\n",
       "    <tr>\n",
       "      <th>1181306</th>\n",
       "      <td>tt9916778</td>\n",
       "      <td>7.5</td>\n",
       "      <td>31</td>\n",
       "    </tr>\n",
       "  </tbody>\n",
       "</table>\n",
       "<p>1181307 rows × 3 columns</p>\n",
       "</div>"
      ],
      "text/plain": [
       "            tconst  averageRating  numVotes\n",
       "0        tt0000001            5.7      1809\n",
       "1        tt0000002            6.0       233\n",
       "2        tt0000003            6.5      1561\n",
       "3        tt0000004            6.1       152\n",
       "4        tt0000005            6.2      2382\n",
       "...            ...            ...       ...\n",
       "1181302  tt9916682            5.6         5\n",
       "1181303  tt9916690            6.6         5\n",
       "1181304  tt9916720            5.3       127\n",
       "1181305  tt9916766            7.1        17\n",
       "1181306  tt9916778            7.5        31\n",
       "\n",
       "[1181307 rows x 3 columns]"
      ]
     },
     "execution_count": 63,
     "metadata": {},
     "output_type": "execute_result"
    }
   ],
   "source": [
    "imdb"
   ]
  },
  {
   "cell_type": "markdown",
   "metadata": {},
   "source": [
    "Für die Beantwortung der Fragestellungen werden die vorliegenden Zeilen genutzt.\n",
    "Da sich diese stetig ändern, kann es vorkommen, dass andere Werte zur Zeit der Durchführung vorlagen."
   ]
  },
  {
   "cell_type": "code",
   "execution_count": 64,
   "metadata": {},
   "outputs": [
    {
     "name": "stdout",
     "output_type": "stream",
     "text": [
      "            tconst  averageRating  numVotes\n",
      "0        tt0000001            5.7      1809\n",
      "1        tt0000002            6.0       233\n",
      "2        tt0000003            6.5      1561\n",
      "3        tt0000004            6.1       152\n",
      "4        tt0000005            6.2      2382\n",
      "...            ...            ...       ...\n",
      "1181302  tt9916682            5.6         5\n",
      "1181303  tt9916690            6.6         5\n",
      "1181304  tt9916720            5.3       127\n",
      "1181305  tt9916766            7.1        17\n",
      "1181306  tt9916778            7.5        31\n",
      "\n",
      "[1181307 rows x 3 columns]\n"
     ]
    }
   ],
   "source": [
    "# Mithilfe von print() kann es ebenfalls visualisiert werden.\n",
    "print(imdb)"
   ]
  },
  {
   "cell_type": "code",
   "execution_count": null,
   "metadata": {},
   "outputs": [],
   "source": []
  },
  {
   "cell_type": "markdown",
   "metadata": {},
   "source": [
    "#### 1. Welches Werk besitzt das höchste Rating?"
   ]
  },
  {
   "cell_type": "code",
   "execution_count": 65,
   "metadata": {},
   "outputs": [
    {
     "data": {
      "text/plain": [
       "0          5.7\n",
       "1          6.0\n",
       "2          6.5\n",
       "3          6.1\n",
       "4          6.2\n",
       "          ... \n",
       "1181302    5.6\n",
       "1181303    6.6\n",
       "1181304    5.3\n",
       "1181305    7.1\n",
       "1181306    7.5\n",
       "Name: averageRating, Length: 1181307, dtype: float64"
      ]
     },
     "execution_count": 65,
     "metadata": {},
     "output_type": "execute_result"
    }
   ],
   "source": [
    "# Herausgabe der Spalte\n",
    "imdb[\"averageRating\"]"
   ]
  },
  {
   "cell_type": "code",
   "execution_count": 66,
   "metadata": {},
   "outputs": [
    {
     "data": {
      "text/plain": [
       "797846      1.0\n",
       "1117156     1.0\n",
       "552871      1.0\n",
       "615480      1.0\n",
       "773114      1.0\n",
       "           ... \n",
       "677958     10.0\n",
       "599057     10.0\n",
       "936603     10.0\n",
       "936609     10.0\n",
       "939356     10.0\n",
       "Name: averageRating, Length: 1181307, dtype: float64"
      ]
     },
     "execution_count": 66,
     "metadata": {},
     "output_type": "execute_result"
    }
   ],
   "source": [
    "imdb.averageRating.sort_values()"
   ]
  },
  {
   "cell_type": "markdown",
   "metadata": {},
   "source": [
    "Die Variable \"sort_values\" hat die averageRatings vom kleinsten zum größten Wert sortiert.\n",
    "\n",
    "Aufgrund dieser Sortierung kann nun eingesehen werden, welches Werk das höchste Rating besitzt. In diesem Fall haben mehrere Medien das gleiche Rating von 10.0 inne."
   ]
  },
  {
   "cell_type": "code",
   "execution_count": 67,
   "metadata": {},
   "outputs": [
    {
     "data": {
      "image/png": "[encoded data removed]",
      "text/plain": [
       "<Figure size 432x288 with 1 Axes>"
      ]
     },
     "metadata": {
      "needs_background": "light"
     },
     "output_type": "display_data"
    }
   ],
   "source": [
    "# Mithilfe von seaborn wird die obrige Tabelle anhand eines Diagramms\n",
    "# anschaulich dargestellt.\n",
    "# Die Werte werden auf der x-Achse ausgegeben.\n",
    "# Die Farbe ist für das Auge des Betrachters und hat \n",
    "#keinen Einfluss auf die Werte.\n",
    "\n",
    "violin_plot = sns.violinplot(x=imdb.averageRating, color=\"cyan\")"
   ]
  },
  {
   "cell_type": "code",
   "execution_count": 68,
   "metadata": {},
   "outputs": [
    {
     "data": {
      "text/plain": [
       "<AxesSubplot:>"
      ]
     },
     "execution_count": 68,
     "metadata": {},
     "output_type": "execute_result"
    },
    {
     "data": {
      "image/png": "[encoded data removed]",
      "text/plain": [
       "<Figure size 432x288 with 1 Axes>"
      ]
     },
     "metadata": {
      "needs_background": "light"
     },
     "output_type": "display_data"
    }
   ],
   "source": [
    "# Ein Histogramm wird erzeugt.\n",
    "# Die Auswahl der Farbe kann einen Einfluss auf die Lesbarkeit haben.\n",
    "imdb.averageRating.hist(color=\"cyan\")"
   ]
  },
  {
   "cell_type": "code",
   "execution_count": null,
   "metadata": {},
   "outputs": [],
   "source": []
  },
  {
   "cell_type": "markdown",
   "metadata": {},
   "source": [
    "#### 2. Wie lautet der Median der Spalte \"numVotes\"?"
   ]
  },
  {
   "cell_type": "code",
   "execution_count": 69,
   "metadata": {},
   "outputs": [
    {
     "data": {
      "text/plain": [
       "0          1809\n",
       "1           233\n",
       "2          1561\n",
       "3           152\n",
       "4          2382\n",
       "           ... \n",
       "1181302       5\n",
       "1181303       5\n",
       "1181304     127\n",
       "1181305      17\n",
       "1181306      31\n",
       "Name: numVotes, Length: 1181307, dtype: int64"
      ]
     },
     "execution_count": 69,
     "metadata": {},
     "output_type": "execute_result"
    }
   ],
   "source": [
    "# Herausgabe der Spalte\n",
    "imdb.numVotes"
   ]
  },
  {
   "cell_type": "code",
   "execution_count": 70,
   "metadata": {},
   "outputs": [
    {
     "data": {
      "text/plain": [
       "24.0"
      ]
     },
     "execution_count": 70,
     "metadata": {},
     "output_type": "execute_result"
    }
   ],
   "source": [
    "# Der Median wird ausgegeben.\n",
    "imdb.numVotes.median()"
   ]
  },
  {
   "cell_type": "markdown",
   "metadata": {},
   "source": [
    "Die Variable \"median()\" gibt den Median, also den Mittelwert aus.\n",
    "In diesem Fall liegt der bei 24.0."
   ]
  },
  {
   "cell_type": "code",
   "execution_count": null,
   "metadata": {},
   "outputs": [],
   "source": []
  },
  {
   "cell_type": "markdown",
   "metadata": {},
   "source": [
    "Die übrigen Spalten geben einen Überblick über \"numVotes\" und zeigen auf, was ebenfalls analysiert werden kann."
   ]
  },
  {
   "cell_type": "code",
   "execution_count": 71,
   "metadata": {},
   "outputs": [
    {
     "data": {
      "text/plain": [
       "count    1.181307e+06\n",
       "mean     9.751111e+02\n",
       "std      1.629612e+04\n",
       "min      5.000000e+00\n",
       "25%      1.100000e+01\n",
       "50%      2.400000e+01\n",
       "75%      9.100000e+01\n",
       "max      2.451241e+06\n",
       "Name: numVotes, dtype: float64"
      ]
     },
     "execution_count": 71,
     "metadata": {},
     "output_type": "execute_result"
    }
   ],
   "source": [
    "imdb.numVotes.describe()"
   ]
  },
  {
   "cell_type": "code",
   "execution_count": 72,
   "metadata": {},
   "outputs": [
    {
     "data": {
      "text/plain": [
       "406226           5\n",
       "520757           5\n",
       "1128888          5\n",
       "747958           5\n",
       "1128883          5\n",
       "            ...   \n",
       "81924      1900003\n",
       "98565      1931385\n",
       "612465     2159281\n",
       "248663     2406950\n",
       "82141      2451241\n",
       "Name: numVotes, Length: 1181307, dtype: int64"
      ]
     },
     "execution_count": 72,
     "metadata": {},
     "output_type": "execute_result"
    }
   ],
   "source": [
    "imdb.numVotes.sort_values()"
   ]
  },
  {
   "cell_type": "code",
   "execution_count": 73,
   "metadata": {},
   "outputs": [
    {
     "data": {
      "text/plain": [
       "<AxesSubplot:xlabel='numVotes'>"
      ]
     },
     "execution_count": 73,
     "metadata": {},
     "output_type": "execute_result"
    },
    {
     "data": {
      "image/png": "[encoded data removed]",
      "text/plain": [
       "<Figure size 432x288 with 1 Axes>"
      ]
     },
     "metadata": {
      "needs_background": "light"
     },
     "output_type": "display_data"
    }
   ],
   "source": [
    "# Es wird dieser Graph gewählt, da er einfacher zu lesen ist.\n",
    "sns.boxplot(x=imdb.numVotes)"
   ]
  },
  {
   "cell_type": "code",
   "execution_count": 74,
   "metadata": {},
   "outputs": [
    {
     "data": {
      "image/png": "[encoded data removed]",
      "text/plain": [
       "<Figure size 432x288 with 1 Axes>"
      ]
     },
     "metadata": {
      "needs_background": "light"
     },
     "output_type": "display_data"
    }
   ],
   "source": [
    "# Vergleich\n",
    "violin_plot = sns.violinplot(x=imdb.numVotes, color=\"magenta\")"
   ]
  },
  {
   "cell_type": "code",
   "execution_count": null,
   "metadata": {},
   "outputs": [],
   "source": []
  },
  {
   "cell_type": "markdown",
   "metadata": {},
   "source": [
    "#### 3. Welche Werke liegen genau über dem Durchschnitt des Ratings?"
   ]
  },
  {
   "cell_type": "code",
   "execution_count": 75,
   "metadata": {},
   "outputs": [
    {
     "data": {
      "text/plain": [
       "count    1.181307e+06\n",
       "mean     6.922557e+00\n",
       "std      1.397072e+00\n",
       "min      1.000000e+00\n",
       "25%      6.200000e+00\n",
       "50%      7.100000e+00\n",
       "75%      7.900000e+00\n",
       "max      1.000000e+01\n",
       "Name: averageRating, dtype: float64"
      ]
     },
     "execution_count": 75,
     "metadata": {},
     "output_type": "execute_result"
    }
   ],
   "source": [
    "imdb.averageRating.describe()"
   ]
  },
  {
   "cell_type": "code",
   "execution_count": 76,
   "metadata": {},
   "outputs": [
    {
     "data": {
      "text/plain": [
       "6.922556625838679"
      ]
     },
     "execution_count": 76,
     "metadata": {},
     "output_type": "execute_result"
    }
   ],
   "source": [
    "# Der Durchschnitt der Ratings wird herausgegeben.\n",
    "imdb.averageRating.mean()"
   ]
  },
  {
   "cell_type": "code",
   "execution_count": 77,
   "metadata": {},
   "outputs": [
    {
     "data": {
      "text/html": [
       "<div>\n",
       "<style scoped>\n",
       "    .dataframe tbody tr th:only-of-type {\n",
       "        vertical-align: middle;\n",
       "    }\n",
       "\n",
       "    .dataframe tbody tr th {\n",
       "        vertical-align: top;\n",
       "    }\n",
       "\n",
       "    .dataframe thead th {\n",
       "        text-align: right;\n",
       "    }\n",
       "</style>\n",
       "<table border=\"1\" class=\"dataframe\">\n",
       "  <thead>\n",
       "    <tr style=\"text-align: right;\">\n",
       "      <th></th>\n",
       "      <th>tconst</th>\n",
       "      <th>averageRating</th>\n",
       "      <th>numVotes</th>\n",
       "    </tr>\n",
       "  </thead>\n",
       "  <tbody>\n",
       "    <tr>\n",
       "      <th>11</th>\n",
       "      <td>tt0000012</td>\n",
       "      <td>7.4</td>\n",
       "      <td>11195</td>\n",
       "    </tr>\n",
       "    <tr>\n",
       "      <th>13</th>\n",
       "      <td>tt0000014</td>\n",
       "      <td>7.1</td>\n",
       "      <td>5028</td>\n",
       "    </tr>\n",
       "    <tr>\n",
       "      <th>58</th>\n",
       "      <td>tt0000060</td>\n",
       "      <td>7.7</td>\n",
       "      <td>82</td>\n",
       "    </tr>\n",
       "    <tr>\n",
       "      <th>198</th>\n",
       "      <td>tt0000211</td>\n",
       "      <td>7.5</td>\n",
       "      <td>3813</td>\n",
       "    </tr>\n",
       "    <tr>\n",
       "      <th>255</th>\n",
       "      <td>tt0000310</td>\n",
       "      <td>7.3</td>\n",
       "      <td>34</td>\n",
       "    </tr>\n",
       "  </tbody>\n",
       "</table>\n",
       "</div>"
      ],
      "text/plain": [
       "        tconst  averageRating  numVotes\n",
       "11   tt0000012            7.4     11195\n",
       "13   tt0000014            7.1      5028\n",
       "58   tt0000060            7.7        82\n",
       "198  tt0000211            7.5      3813\n",
       "255  tt0000310            7.3        34"
      ]
     },
     "execution_count": 77,
     "metadata": {},
     "output_type": "execute_result"
    }
   ],
   "source": [
    "subset = imdb[(imdb[\"averageRating\"] > 6.922556625838679)]\n",
    "subset.head()\n",
    "\n",
    "# Beim aufrunden des Durchschnitts zu 6.93 existiert das gleiche Ergebnis."
   ]
  },
  {
   "cell_type": "markdown",
   "metadata": {},
   "source": [
    "In der Tabelle werden die fünf Titel angezeigt, deren Rating genau über dem Durchschnitt von 6.93 liegen.\n",
    "\n",
    "Da die Daten der IMDb in Dataframes gespeichert sind, müssen diese eigentlich weiterverarbeitet werden. Erst dann kann mit den Daten gearbeitet werden. Um dieses Problem zu umgehen, wird hier ein Subset der Originaldaten erstellt. Es werden die fünf  Ergebnisse angezeigt.\n",
    "\n",
    "Diese Seite wurde mir empfohlen, um die Fragestellung lösen zu können:\n",
    "https://www.dataforeverybody.com/pandas-drop-rows-values-dataframe/ \n",
    "\n",
    "----\n",
    "In der nächsten Codezeile wird aufgezeigt, dass dies ebenfalls mit höheren Zahlen funktioniert und somit genau analysiert werden kann, welche Werke über einem bestimmten Wert liegen.\n"
   ]
  },
  {
   "cell_type": "code",
   "execution_count": 78,
   "metadata": {},
   "outputs": [
    {
     "data": {
      "text/html": [
       "<div>\n",
       "<style scoped>\n",
       "    .dataframe tbody tr th:only-of-type {\n",
       "        vertical-align: middle;\n",
       "    }\n",
       "\n",
       "    .dataframe tbody tr th {\n",
       "        vertical-align: top;\n",
       "    }\n",
       "\n",
       "    .dataframe thead th {\n",
       "        text-align: right;\n",
       "    }\n",
       "</style>\n",
       "<table border=\"1\" class=\"dataframe\">\n",
       "  <thead>\n",
       "    <tr style=\"text-align: right;\">\n",
       "      <th></th>\n",
       "      <th>tconst</th>\n",
       "      <th>averageRating</th>\n",
       "      <th>numVotes</th>\n",
       "    </tr>\n",
       "  </thead>\n",
       "  <tbody>\n",
       "    <tr>\n",
       "      <th>3319</th>\n",
       "      <td>tt0012623</td>\n",
       "      <td>9.6</td>\n",
       "      <td>11</td>\n",
       "    </tr>\n",
       "    <tr>\n",
       "      <th>4318</th>\n",
       "      <td>tt0015927</td>\n",
       "      <td>9.7</td>\n",
       "      <td>15</td>\n",
       "    </tr>\n",
       "    <tr>\n",
       "      <th>30214</th>\n",
       "      <td>tt0050536</td>\n",
       "      <td>10.0</td>\n",
       "      <td>13</td>\n",
       "    </tr>\n",
       "    <tr>\n",
       "      <th>32271</th>\n",
       "      <td>tt0052931</td>\n",
       "      <td>9.7</td>\n",
       "      <td>8</td>\n",
       "    </tr>\n",
       "    <tr>\n",
       "      <th>32811</th>\n",
       "      <td>tt0053560</td>\n",
       "      <td>9.6</td>\n",
       "      <td>9</td>\n",
       "    </tr>\n",
       "  </tbody>\n",
       "</table>\n",
       "</div>"
      ],
      "text/plain": [
       "          tconst  averageRating  numVotes\n",
       "3319   tt0012623            9.6        11\n",
       "4318   tt0015927            9.7        15\n",
       "30214  tt0050536           10.0        13\n",
       "32271  tt0052931            9.7         8\n",
       "32811  tt0053560            9.6         9"
      ]
     },
     "execution_count": 78,
     "metadata": {},
     "output_type": "execute_result"
    }
   ],
   "source": [
    "subset = imdb[(imdb[\"averageRating\"] > 9.5)]\n",
    "subset.head()"
   ]
  },
  {
   "cell_type": "markdown",
   "metadata": {},
   "source": []
  },
  {
   "cell_type": "markdown",
   "metadata": {},
   "source": [
    "Auf diese Weise könnte ebenfalls Frage 1 beantwortet werden. Dazu müsste lediglich der Wert gleich 10 gesetzt werden."
   ]
  },
  {
   "cell_type": "code",
   "execution_count": 79,
   "metadata": {},
   "outputs": [
    {
     "data": {
      "text/html": [
       "<div>\n",
       "<style scoped>\n",
       "    .dataframe tbody tr th:only-of-type {\n",
       "        vertical-align: middle;\n",
       "    }\n",
       "\n",
       "    .dataframe tbody tr th {\n",
       "        vertical-align: top;\n",
       "    }\n",
       "\n",
       "    .dataframe thead th {\n",
       "        text-align: right;\n",
       "    }\n",
       "</style>\n",
       "<table border=\"1\" class=\"dataframe\">\n",
       "  <thead>\n",
       "    <tr style=\"text-align: right;\">\n",
       "      <th></th>\n",
       "      <th>tconst</th>\n",
       "      <th>averageRating</th>\n",
       "      <th>numVotes</th>\n",
       "    </tr>\n",
       "  </thead>\n",
       "  <tbody>\n",
       "    <tr>\n",
       "      <th>30214</th>\n",
       "      <td>tt0050536</td>\n",
       "      <td>10.0</td>\n",
       "      <td>13</td>\n",
       "    </tr>\n",
       "    <tr>\n",
       "      <th>35439</th>\n",
       "      <td>tt0056535</td>\n",
       "      <td>10.0</td>\n",
       "      <td>13</td>\n",
       "    </tr>\n",
       "    <tr>\n",
       "      <th>40048</th>\n",
       "      <td>tt0061857</td>\n",
       "      <td>10.0</td>\n",
       "      <td>10</td>\n",
       "    </tr>\n",
       "    <tr>\n",
       "      <th>75936</th>\n",
       "      <td>tt0103649</td>\n",
       "      <td>10.0</td>\n",
       "      <td>5</td>\n",
       "    </tr>\n",
       "    <tr>\n",
       "      <th>82221</th>\n",
       "      <td>tt0111263</td>\n",
       "      <td>10.0</td>\n",
       "      <td>7</td>\n",
       "    </tr>\n",
       "  </tbody>\n",
       "</table>\n",
       "</div>"
      ],
      "text/plain": [
       "          tconst  averageRating  numVotes\n",
       "30214  tt0050536           10.0        13\n",
       "35439  tt0056535           10.0        13\n",
       "40048  tt0061857           10.0        10\n",
       "75936  tt0103649           10.0         5\n",
       "82221  tt0111263           10.0         7"
      ]
     },
     "execution_count": 79,
     "metadata": {},
     "output_type": "execute_result"
    }
   ],
   "source": [
    "subset = imdb[(imdb[\"averageRating\"] == 10)]\n",
    "subset.head()"
   ]
  },
  {
   "cell_type": "code",
   "execution_count": null,
   "metadata": {},
   "outputs": [],
   "source": []
  },
  {
   "cell_type": "markdown",
   "metadata": {},
   "source": [
    "Mein vorheriger Versuch mithilfe der unten stehenden Programmierung ein richtiges Ergebnis zu erzielen, funktionierte nicht. Der Ausgabewert liegt immer bei null."
   ]
  },
  {
   "cell_type": "code",
   "execution_count": 80,
   "metadata": {},
   "outputs": [
    {
     "name": "stdout",
     "output_type": "stream",
     "text": [
      "0\n"
     ]
    }
   ],
   "source": [
    "# Mithilfe der for-Schleife soll das averageRating durchlaufen werden und\n",
    "# alle Filme, die über dem Durchschnitt liegen in der erstellten\n",
    "# Ergebnisliste gespeichert werden.\n",
    "# Die Länge dieser Liste wird dann herausgegeben.\n",
    "\n",
    "gol = imdb[\"averageRating\"]\n",
    "ergebnis_Hoch = []\n",
    "\n",
    "def averageRating(imdb):\n",
    "    \n",
    "    for y in gol: \n",
    "        if gol > imdb.averageRating.mean():\n",
    "            ergebnis_Hoch.append(y)\n",
    "print(len(ergebnis_Hoch))"
   ]
  },
  {
   "cell_type": "code",
   "execution_count": null,
   "metadata": {},
   "outputs": [],
   "source": []
  },
  {
   "cell_type": "code",
   "execution_count": null,
   "metadata": {},
   "outputs": [],
   "source": []
  }
 ],
 "metadata": {
  "kernelspec": {
   "display_name": "Python 3",
   "language": "python",
   "name": "python3"
  },
  "language_info": {
   "codemirror_mode": {
    "name": "ipython",
    "version": 3
   },
   "file_extension": ".py",
   "mimetype": "text/x-python",
   "name": "python",
   "nbconvert_exporter": "python",
   "pygments_lexer": "ipython3",
   "version": "3.8.5"
  }
 },
 "nbformat": 4,
 "nbformat_minor": 4
}
