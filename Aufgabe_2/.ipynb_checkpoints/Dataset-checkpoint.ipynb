{
 "cells": [
  {
   "cell_type": "markdown",
   "metadata": {},
   "source": [
    "# Aufgabe 2"
   ]
  },
  {
   "cell_type": "markdown",
   "metadata": {},
   "source": [
    "Finden Sie eine offenes Datenset und versuchen Sie mittels Python Fragen zu beantworten, Hypothesen zu belegen/widerlegen oder Daten zu visualisieren. Es müssen mindestens drei unterschiedliche Fragen, Hypothesen oder Visualisierungen sein. Erstellen\n",
    "Sie dazu ein Jupyter Notebook (oder ein Python-Script) mit folgenden Abschnitten - im\n",
    "Jupyter Notebook nutzen Sie bitte Markdownzellen für diese Dokumentation:\n",
    "\n",
    "• Beschreibung des Datensets (150 - 300 Wörter)\n",
    "\n",
    "• Fragestellungen (200 - 500 Wörter)\n",
    "\n",
    "• Datenanalyse in Python mit Kommentaren was und warum Sie bestimmte Schritte\n",
    "gemacht haben ggf. auch kurze Erläuterung der Ergebnisse\n",
    "\n",
    "• Diskussion (150 - 300 Wörter)"
   ]
  },
  {
   "cell_type": "markdown",
   "metadata": {},
   "source": [
    "## Beschreibung des Datensets\n",
    "Zur Datenanalyse wurde das Datenset „title.ratings.tsv.gz“ der IMDb Datasets ausgewählt. Dieses Set enthält die Werte zu den Ratings und den Stimmen der Nutzer*innen zu den jeweiligen Werken.\n",
    "imdb - Internet Movie Database"
   ]
  },
  {
   "cell_type": "markdown",
   "metadata": {},
   "source": [
    "## Fragestellungen\n",
    "\n",
    "1. Welcher Film besitzt das höchste Rating?\n",
    "\n",
    "2. NumberVotes\n",
    "\n",
    "3. Wie viele Filme liegen über dem Durchschnitt des Ratings?"
   ]
  },
  {
   "cell_type": "markdown",
   "metadata": {},
   "source": [
    "## Diskussion\n",
    "\n",
    "Wenn ich wüsste was ich tue, könnte hier etwas stehen."
   ]
  },
  {
   "cell_type": "code",
   "execution_count": null,
   "metadata": {},
   "outputs": [],
   "source": []
  },
  {
   "cell_type": "code",
   "execution_count": 36,
   "metadata": {},
   "outputs": [],
   "source": [
    "import pandas as pd\n",
    "import seaborn as sns\n",
    "import matplotlib.pyplot as plt"
   ]
  },
  {
   "cell_type": "code",
   "execution_count": 37,
   "metadata": {},
   "outputs": [],
   "source": [
    "url = \"https://datasets.imdbws.com/title.ratings.tsv.gz\"\n",
    "imdb = pd.read_csv(url, sep=\"\\t\")\n",
    "\n",
    "# Mithilfe des Parameters sep werden die Werte durch Tabulatoren separiert."
   ]
  },
  {
   "cell_type": "code",
   "execution_count": 38,
   "metadata": {
    "scrolled": false
   },
   "outputs": [
    {
     "data": {
      "text/html": [
       "<div>\n",
       "<style scoped>\n",
       "    .dataframe tbody tr th:only-of-type {\n",
       "        vertical-align: middle;\n",
       "    }\n",
       "\n",
       "    .dataframe tbody tr th {\n",
       "        vertical-align: top;\n",
       "    }\n",
       "\n",
       "    .dataframe thead th {\n",
       "        text-align: right;\n",
       "    }\n",
       "</style>\n",
       "<table border=\"1\" class=\"dataframe\">\n",
       "  <thead>\n",
       "    <tr style=\"text-align: right;\">\n",
       "      <th></th>\n",
       "      <th>tconst</th>\n",
       "      <th>averageRating</th>\n",
       "      <th>numVotes</th>\n",
       "    </tr>\n",
       "  </thead>\n",
       "  <tbody>\n",
       "    <tr>\n",
       "      <th>0</th>\n",
       "      <td>tt0000001</td>\n",
       "      <td>5.7</td>\n",
       "      <td>1809</td>\n",
       "    </tr>\n",
       "    <tr>\n",
       "      <th>1</th>\n",
       "      <td>tt0000002</td>\n",
       "      <td>6.0</td>\n",
       "      <td>233</td>\n",
       "    </tr>\n",
       "    <tr>\n",
       "      <th>2</th>\n",
       "      <td>tt0000003</td>\n",
       "      <td>6.5</td>\n",
       "      <td>1561</td>\n",
       "    </tr>\n",
       "    <tr>\n",
       "      <th>3</th>\n",
       "      <td>tt0000004</td>\n",
       "      <td>6.1</td>\n",
       "      <td>152</td>\n",
       "    </tr>\n",
       "    <tr>\n",
       "      <th>4</th>\n",
       "      <td>tt0000005</td>\n",
       "      <td>6.2</td>\n",
       "      <td>2382</td>\n",
       "    </tr>\n",
       "    <tr>\n",
       "      <th>...</th>\n",
       "      <td>...</td>\n",
       "      <td>...</td>\n",
       "      <td>...</td>\n",
       "    </tr>\n",
       "    <tr>\n",
       "      <th>1181302</th>\n",
       "      <td>tt9916682</td>\n",
       "      <td>5.6</td>\n",
       "      <td>5</td>\n",
       "    </tr>\n",
       "    <tr>\n",
       "      <th>1181303</th>\n",
       "      <td>tt9916690</td>\n",
       "      <td>6.6</td>\n",
       "      <td>5</td>\n",
       "    </tr>\n",
       "    <tr>\n",
       "      <th>1181304</th>\n",
       "      <td>tt9916720</td>\n",
       "      <td>5.3</td>\n",
       "      <td>127</td>\n",
       "    </tr>\n",
       "    <tr>\n",
       "      <th>1181305</th>\n",
       "      <td>tt9916766</td>\n",
       "      <td>7.1</td>\n",
       "      <td>17</td>\n",
       "    </tr>\n",
       "    <tr>\n",
       "      <th>1181306</th>\n",
       "      <td>tt9916778</td>\n",
       "      <td>7.5</td>\n",
       "      <td>31</td>\n",
       "    </tr>\n",
       "  </tbody>\n",
       "</table>\n",
       "<p>1181307 rows × 3 columns</p>\n",
       "</div>"
      ],
      "text/plain": [
       "            tconst  averageRating  numVotes\n",
       "0        tt0000001            5.7      1809\n",
       "1        tt0000002            6.0       233\n",
       "2        tt0000003            6.5      1561\n",
       "3        tt0000004            6.1       152\n",
       "4        tt0000005            6.2      2382\n",
       "...            ...            ...       ...\n",
       "1181302  tt9916682            5.6         5\n",
       "1181303  tt9916690            6.6         5\n",
       "1181304  tt9916720            5.3       127\n",
       "1181305  tt9916766            7.1        17\n",
       "1181306  tt9916778            7.5        31\n",
       "\n",
       "[1181307 rows x 3 columns]"
      ]
     },
     "execution_count": 38,
     "metadata": {},
     "output_type": "execute_result"
    }
   ],
   "source": [
    "imdb"
   ]
  },
  {
   "cell_type": "markdown",
   "metadata": {},
   "source": [
    "Für die Beantwortung der Fragestellungen werden die vorliegenden Zeilen genutzt.\n",
    "Da sich diese stetig ändern, kann es vorkommen, dass andere Werte zur Zeit der Durchführung vorlagen."
   ]
  },
  {
   "cell_type": "code",
   "execution_count": 65,
   "metadata": {},
   "outputs": [
    {
     "name": "stdout",
     "output_type": "stream",
     "text": [
      "            tconst  averageRating  numVotes\n",
      "0        tt0000001            5.7      1809\n",
      "1        tt0000002            6.0       233\n",
      "2        tt0000003            6.5      1561\n",
      "3        tt0000004            6.1       152\n",
      "4        tt0000005            6.2      2382\n",
      "...            ...            ...       ...\n",
      "1181302  tt9916682            5.6         5\n",
      "1181303  tt9916690            6.6         5\n",
      "1181304  tt9916720            5.3       127\n",
      "1181305  tt9916766            7.1        17\n",
      "1181306  tt9916778            7.5        31\n",
      "\n",
      "[1181307 rows x 3 columns]\n"
     ]
    }
   ],
   "source": [
    "# Mithilfe von print() kann es ebenfalls visualisiert werden.\n",
    "print(imdb)"
   ]
  },
  {
   "cell_type": "markdown",
   "metadata": {},
   "source": [
    "#### 1. Welches Medium besitzt das höchste Rating?"
   ]
  },
  {
   "cell_type": "code",
   "execution_count": 39,
   "metadata": {},
   "outputs": [
    {
     "data": {
      "text/plain": [
       "0          5.7\n",
       "1          6.0\n",
       "2          6.5\n",
       "3          6.1\n",
       "4          6.2\n",
       "          ... \n",
       "1181302    5.6\n",
       "1181303    6.6\n",
       "1181304    5.3\n",
       "1181305    7.1\n",
       "1181306    7.5\n",
       "Name: averageRating, Length: 1181307, dtype: float64"
      ]
     },
     "execution_count": 39,
     "metadata": {},
     "output_type": "execute_result"
    }
   ],
   "source": [
    "# Herausgabe der Spalte\n",
    "imdb[\"averageRating\"]"
   ]
  },
  {
   "cell_type": "code",
   "execution_count": 40,
   "metadata": {},
   "outputs": [
    {
     "data": {
      "text/plain": [
       "797846      1.0\n",
       "1117156     1.0\n",
       "552871      1.0\n",
       "615480      1.0\n",
       "773114      1.0\n",
       "           ... \n",
       "677958     10.0\n",
       "599057     10.0\n",
       "936603     10.0\n",
       "936609     10.0\n",
       "939356     10.0\n",
       "Name: averageRating, Length: 1181307, dtype: float64"
      ]
     },
     "execution_count": 40,
     "metadata": {},
     "output_type": "execute_result"
    }
   ],
   "source": [
    "imdb.averageRating.sort_values()"
   ]
  },
  {
   "cell_type": "markdown",
   "metadata": {},
   "source": [
    "Die Variable \"sort_values\" hat die averageRatings vom kleinsten zum größten Wert sortiert.\n",
    "\n",
    "Aufgrund dieser Sortierung kann nun eingesehen werden, welches Medium das höchste Rating besitzt. In diesem Fall haben mehrere Medien das gleiche Rating von 10.0 inne."
   ]
  },
  {
   "cell_type": "code",
   "execution_count": 69,
   "metadata": {},
   "outputs": [
    {
     "name": "stdout",
     "output_type": "stream",
     "text": [
      "0\n"
     ]
    }
   ],
   "source": [
    "hoch = imdb.averageRating.max()\n",
    "liste = []\n",
    "\n",
    "def hoch(imdb):\n",
    "    if imdb.averageRating == hoch:\n",
    "        liste.append(hoch)\n",
    "print(len(liste))"
   ]
  },
  {
   "cell_type": "code",
   "execution_count": null,
   "metadata": {},
   "outputs": [],
   "source": []
  },
  {
   "cell_type": "markdown",
   "metadata": {},
   "source": [
    "#### 2. Frage"
   ]
  },
  {
   "cell_type": "code",
   "execution_count": 42,
   "metadata": {},
   "outputs": [
    {
     "data": {
      "text/plain": [
       "0          1809\n",
       "1           233\n",
       "2          1561\n",
       "3           152\n",
       "4          2382\n",
       "           ... \n",
       "1181302       5\n",
       "1181303       5\n",
       "1181304     127\n",
       "1181305      17\n",
       "1181306      31\n",
       "Name: numVotes, Length: 1181307, dtype: int64"
      ]
     },
     "execution_count": 42,
     "metadata": {},
     "output_type": "execute_result"
    }
   ],
   "source": [
    "# Herausgabe der Spalte\n",
    "imdb.numVotes"
   ]
  },
  {
   "cell_type": "code",
   "execution_count": 43,
   "metadata": {},
   "outputs": [
    {
     "data": {
      "text/plain": [
       "count    1.181307e+06\n",
       "mean     9.751111e+02\n",
       "std      1.629612e+04\n",
       "min      5.000000e+00\n",
       "25%      1.100000e+01\n",
       "50%      2.400000e+01\n",
       "75%      9.100000e+01\n",
       "max      2.451241e+06\n",
       "Name: numVotes, dtype: float64"
      ]
     },
     "execution_count": 43,
     "metadata": {},
     "output_type": "execute_result"
    }
   ],
   "source": [
    "imdb.numVotes.describe()"
   ]
  },
  {
   "cell_type": "code",
   "execution_count": 44,
   "metadata": {},
   "outputs": [
    {
     "data": {
      "text/plain": [
       "406226           5\n",
       "520757           5\n",
       "1128888          5\n",
       "747958           5\n",
       "1128883          5\n",
       "            ...   \n",
       "81924      1900003\n",
       "98565      1931385\n",
       "612465     2159281\n",
       "248663     2406950\n",
       "82141      2451241\n",
       "Name: numVotes, Length: 1181307, dtype: int64"
      ]
     },
     "execution_count": 44,
     "metadata": {},
     "output_type": "execute_result"
    }
   ],
   "source": [
    "imdb.numVotes.sort_values()"
   ]
  },
  {
   "cell_type": "code",
   "execution_count": null,
   "metadata": {},
   "outputs": [],
   "source": []
  },
  {
   "cell_type": "code",
   "execution_count": null,
   "metadata": {},
   "outputs": [],
   "source": []
  },
  {
   "cell_type": "code",
   "execution_count": null,
   "metadata": {},
   "outputs": [],
   "source": []
  },
  {
   "cell_type": "markdown",
   "metadata": {},
   "source": [
    "#### 3. Wie viele Filme liegen über dem Durchschnitt des Ratings?"
   ]
  },
  {
   "cell_type": "code",
   "execution_count": 45,
   "metadata": {},
   "outputs": [
    {
     "data": {
      "text/plain": [
       "count    1.181307e+06\n",
       "mean     6.922557e+00\n",
       "std      1.397072e+00\n",
       "min      1.000000e+00\n",
       "25%      6.200000e+00\n",
       "50%      7.100000e+00\n",
       "75%      7.900000e+00\n",
       "max      1.000000e+01\n",
       "Name: averageRating, dtype: float64"
      ]
     },
     "execution_count": 45,
     "metadata": {},
     "output_type": "execute_result"
    }
   ],
   "source": [
    "imdb.averageRating.describe()"
   ]
  },
  {
   "cell_type": "code",
   "execution_count": 46,
   "metadata": {},
   "outputs": [
    {
     "data": {
      "text/plain": [
       "6.922556625838679"
      ]
     },
     "execution_count": 46,
     "metadata": {},
     "output_type": "execute_result"
    }
   ],
   "source": [
    "# Der Durchschnitt der Ratings wird herausgegeben.\n",
    "imdb.averageRating.mean()"
   ]
  },
  {
   "cell_type": "code",
   "execution_count": 75,
   "metadata": {},
   "outputs": [
    {
     "name": "stdout",
     "output_type": "stream",
     "text": [
      "0\n"
     ]
    }
   ],
   "source": [
    "# Mithilfe der for-Schleife soll das averageRating durchlaufen werden und\n",
    "# alle Filme, die über dem Durchschnitt liegen in der erstellten\n",
    "# Ergebnisliste gespeichert werden.\n",
    "# Die Länge dieser Liste wird dann herausgegeben.\n",
    "\n",
    "gol = imdb[\"averageRating\"]\n",
    "\n",
    "def averageRating(imdb):\n",
    "    ergebnis_Hoch = []\n",
    "    for y in gol: \n",
    "        if gol > imdb.averageRating.mean():\n",
    "            ergebnis_Hoch.append(y)\n",
    "print(len(ergebnis_Hoch))"
   ]
  },
  {
   "cell_type": "code",
   "execution_count": null,
   "metadata": {},
   "outputs": [],
   "source": []
  },
  {
   "cell_type": "code",
   "execution_count": null,
   "metadata": {},
   "outputs": [],
   "source": []
  }
 ],
 "metadata": {
  "kernelspec": {
   "display_name": "Python 3",
   "language": "python",
   "name": "python3"
  },
  "language_info": {
   "codemirror_mode": {
    "name": "ipython",
    "version": 3
   },
   "file_extension": ".py",
   "mimetype": "text/x-python",
   "name": "python",
   "nbconvert_exporter": "python",
   "pygments_lexer": "ipython3",
   "version": "3.8.5"
  }
 },
 "nbformat": 4,
 "nbformat_minor": 4
}
