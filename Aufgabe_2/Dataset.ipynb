{
 "cells": [
  {
   "cell_type": "markdown",
   "metadata": {},
   "source": [
    "# Aufgabe 2"
   ]
  },
  {
   "cell_type": "markdown",
   "metadata": {},
   "source": [
    "Finden Sie eine offenes Datenset und versuchen Sie mittels Python Fragen zu beantworten, Hypothesen zu belegen/widerlegen oder Daten zu visualisieren. Es müssen mindestens drei unterschiedliche Fragen, Hypothesen oder Visualisierungen sein. Erstellen\n",
    "Sie dazu ein Jupyter Notebook (oder ein Python-Script) mit folgenden Abschnitten - im\n",
    "Jupyter Notebook nutzen Sie bitte Markdownzellen für diese Dokumentation:\n",
    "\n",
    "• Beschreibung des Datensets (150 - 300 Wörter)\n",
    "\n",
    "• Fragestellungen (200 - 500 Wörter)\n",
    "\n",
    "• Datenanalyse in Python mit Kommentaren was und warum Sie bestimmte Schritte\n",
    "gemacht haben ggf. auch kurze Erläuterung der Ergebnisse\n",
    "\n",
    "• Diskussion (150 - 300 Wörter)"
   ]
  },
  {
   "cell_type": "markdown",
   "metadata": {},
   "source": [
    "## Beschreibung des Datensets\n",
    "Zur Datenanalyse wurde das Datenset „title.ratings.tsv.gz“ der IMDb Datasets ausgewählt. Dieses Set enthält die Werte zu den Ratings und den Stimmen der Nutzer*innen zu den jeweiligen Werken.\n",
    "imdb - Internet Movie Database"
   ]
  },
  {
   "cell_type": "markdown",
   "metadata": {},
   "source": [
    "## Fragestellungen\n",
    "\n",
    "1. Welcher Film besitzt das höchste Rating?\n",
    "\n",
    "2. NumberVotes\n",
    "\n",
    "3. Wie viele Filme liegen über dem Durchschnitt des Ratings?"
   ]
  },
  {
   "cell_type": "markdown",
   "metadata": {},
   "source": [
    "## Diskussion\n",
    "\n",
    "Wenn ich wüsste was ich tue, könnte hier etwas stehen."
   ]
  },
  {
   "cell_type": "code",
   "execution_count": null,
   "metadata": {},
   "outputs": [],
   "source": []
  },
  {
   "cell_type": "code",
   "execution_count": 1,
   "metadata": {},
   "outputs": [],
   "source": [
    "import pandas as pd\n",
    "import seaborn as sns\n",
    "import matplotlib.pyplot as plt\n",
    "import csv"
   ]
  },
  {
   "cell_type": "code",
   "execution_count": 2,
   "metadata": {},
   "outputs": [],
   "source": [
    "url = \"https://datasets.imdbws.com/title.ratings.tsv.gz\"\n",
    "imdb = pd.read_csv(url, sep=\"\\t\")\n",
    "\n",
    "# Mithilfe des Parameters sep werden die Werte durch Tabulatoren separiert."
   ]
  },
  {
   "cell_type": "code",
   "execution_count": 3,
   "metadata": {
    "scrolled": false
   },
   "outputs": [
    {
     "data": {
      "text/html": [
       "<div>\n",
       "<style scoped>\n",
       "    .dataframe tbody tr th:only-of-type {\n",
       "        vertical-align: middle;\n",
       "    }\n",
       "\n",
       "    .dataframe tbody tr th {\n",
       "        vertical-align: top;\n",
       "    }\n",
       "\n",
       "    .dataframe thead th {\n",
       "        text-align: right;\n",
       "    }\n",
       "</style>\n",
       "<table border=\"1\" class=\"dataframe\">\n",
       "  <thead>\n",
       "    <tr style=\"text-align: right;\">\n",
       "      <th></th>\n",
       "      <th>tconst</th>\n",
       "      <th>averageRating</th>\n",
       "      <th>numVotes</th>\n",
       "    </tr>\n",
       "  </thead>\n",
       "  <tbody>\n",
       "    <tr>\n",
       "      <th>0</th>\n",
       "      <td>tt0000001</td>\n",
       "      <td>5.7</td>\n",
       "      <td>1808</td>\n",
       "    </tr>\n",
       "    <tr>\n",
       "      <th>1</th>\n",
       "      <td>tt0000002</td>\n",
       "      <td>6.0</td>\n",
       "      <td>233</td>\n",
       "    </tr>\n",
       "    <tr>\n",
       "      <th>2</th>\n",
       "      <td>tt0000003</td>\n",
       "      <td>6.5</td>\n",
       "      <td>1559</td>\n",
       "    </tr>\n",
       "    <tr>\n",
       "      <th>3</th>\n",
       "      <td>tt0000004</td>\n",
       "      <td>6.1</td>\n",
       "      <td>152</td>\n",
       "    </tr>\n",
       "    <tr>\n",
       "      <th>4</th>\n",
       "      <td>tt0000005</td>\n",
       "      <td>6.2</td>\n",
       "      <td>2382</td>\n",
       "    </tr>\n",
       "    <tr>\n",
       "      <th>...</th>\n",
       "      <td>...</td>\n",
       "      <td>...</td>\n",
       "      <td>...</td>\n",
       "    </tr>\n",
       "    <tr>\n",
       "      <th>1180464</th>\n",
       "      <td>tt9916682</td>\n",
       "      <td>5.6</td>\n",
       "      <td>5</td>\n",
       "    </tr>\n",
       "    <tr>\n",
       "      <th>1180465</th>\n",
       "      <td>tt9916690</td>\n",
       "      <td>6.6</td>\n",
       "      <td>5</td>\n",
       "    </tr>\n",
       "    <tr>\n",
       "      <th>1180466</th>\n",
       "      <td>tt9916720</td>\n",
       "      <td>5.3</td>\n",
       "      <td>127</td>\n",
       "    </tr>\n",
       "    <tr>\n",
       "      <th>1180467</th>\n",
       "      <td>tt9916766</td>\n",
       "      <td>6.9</td>\n",
       "      <td>18</td>\n",
       "    </tr>\n",
       "    <tr>\n",
       "      <th>1180468</th>\n",
       "      <td>tt9916778</td>\n",
       "      <td>7.5</td>\n",
       "      <td>31</td>\n",
       "    </tr>\n",
       "  </tbody>\n",
       "</table>\n",
       "<p>1180469 rows × 3 columns</p>\n",
       "</div>"
      ],
      "text/plain": [
       "            tconst  averageRating  numVotes\n",
       "0        tt0000001            5.7      1808\n",
       "1        tt0000002            6.0       233\n",
       "2        tt0000003            6.5      1559\n",
       "3        tt0000004            6.1       152\n",
       "4        tt0000005            6.2      2382\n",
       "...            ...            ...       ...\n",
       "1180464  tt9916682            5.6         5\n",
       "1180465  tt9916690            6.6         5\n",
       "1180466  tt9916720            5.3       127\n",
       "1180467  tt9916766            6.9        18\n",
       "1180468  tt9916778            7.5        31\n",
       "\n",
       "[1180469 rows x 3 columns]"
      ]
     },
     "execution_count": 3,
     "metadata": {},
     "output_type": "execute_result"
    }
   ],
   "source": [
    "imdb"
   ]
  },
  {
   "cell_type": "markdown",
   "metadata": {},
   "source": [
    "Für die Beantwortung der Fragestellungen werden die vorliegenden Zeilen genutzt.\n",
    "Da sich diese stetig ändern, kann es vorkommen, dass andere Werte zur Zeit der Durchführung vorlagen."
   ]
  },
  {
   "cell_type": "code",
   "execution_count": null,
   "metadata": {},
   "outputs": [],
   "source": []
  },
  {
   "cell_type": "markdown",
   "metadata": {},
   "source": [
    "#### 1. Welches Medium besitzt das höchste Rating?"
   ]
  },
  {
   "cell_type": "code",
   "execution_count": 4,
   "metadata": {},
   "outputs": [
    {
     "data": {
      "text/plain": [
       "0          5.7\n",
       "1          6.0\n",
       "2          6.5\n",
       "3          6.1\n",
       "4          6.2\n",
       "          ... \n",
       "1180464    5.6\n",
       "1180465    6.6\n",
       "1180466    5.3\n",
       "1180467    6.9\n",
       "1180468    7.5\n",
       "Name: averageRating, Length: 1180469, dtype: float64"
      ]
     },
     "execution_count": 4,
     "metadata": {},
     "output_type": "execute_result"
    }
   ],
   "source": [
    "# Herausgabe der Spalte\n",
    "imdb[\"averageRating\"]"
   ]
  },
  {
   "cell_type": "code",
   "execution_count": 55,
   "metadata": {},
   "outputs": [
    {
     "data": {
      "text/plain": [
       "1120090     1.0\n",
       "272673      1.0\n",
       "825011      1.0\n",
       "317877      1.0\n",
       "1012164     1.0\n",
       "           ... \n",
       "938288     10.0\n",
       "938286     10.0\n",
       "126816     10.0\n",
       "749324     10.0\n",
       "937309     10.0\n",
       "Name: averageRating, Length: 1180469, dtype: float64"
      ]
     },
     "execution_count": 55,
     "metadata": {},
     "output_type": "execute_result"
    }
   ],
   "source": [
    "imdb.averageRating.sort_values()"
   ]
  },
  {
   "cell_type": "markdown",
   "metadata": {},
   "source": [
    "Die Variable \"sort_values\" hat die averageRatings vom kleinsten zum größten Wert sortiert.\n",
    "\n",
    "Aufgrund dieser Sortierung kann nun eingesehen werden, welches Medium das höchste Rating besitzt. In diesem Fall haben mehrere Medien das gleiche Rating von 10.0 inne."
   ]
  },
  {
   "cell_type": "code",
   "execution_count": 53,
   "metadata": {},
   "outputs": [],
   "source": [
    "hoch = imdb.averageRating.max()\n",
    "\n",
    "def hoch(imdb):\n",
    "    if imdb.averageRating == hoch:\n",
    "        print(imdb.tconst.averageRating)\n",
    "        return False"
   ]
  },
  {
   "cell_type": "code",
   "execution_count": null,
   "metadata": {},
   "outputs": [],
   "source": []
  },
  {
   "cell_type": "markdown",
   "metadata": {},
   "source": [
    "#### 2. Frage"
   ]
  },
  {
   "cell_type": "code",
   "execution_count": 13,
   "metadata": {},
   "outputs": [
    {
     "data": {
      "text/plain": [
       "0          1808\n",
       "1           233\n",
       "2          1559\n",
       "3           152\n",
       "4          2382\n",
       "           ... \n",
       "1180464       5\n",
       "1180465       5\n",
       "1180466     127\n",
       "1180467      18\n",
       "1180468      31\n",
       "Name: numVotes, Length: 1180469, dtype: int64"
      ]
     },
     "execution_count": 13,
     "metadata": {},
     "output_type": "execute_result"
    }
   ],
   "source": [
    "# Herausgabe der Spalte\n",
    "imdb.numVotes"
   ]
  },
  {
   "cell_type": "code",
   "execution_count": 15,
   "metadata": {},
   "outputs": [
    {
     "data": {
      "text/plain": [
       "count    1.180469e+06\n",
       "mean     9.750939e+02\n",
       "std      1.629362e+04\n",
       "min      5.000000e+00\n",
       "25%      1.100000e+01\n",
       "50%      2.400000e+01\n",
       "75%      9.100000e+01\n",
       "max      2.449942e+06\n",
       "Name: numVotes, dtype: float64"
      ]
     },
     "execution_count": 15,
     "metadata": {},
     "output_type": "execute_result"
    }
   ],
   "source": [
    "imdb.numVotes.describe()"
   ]
  },
  {
   "cell_type": "code",
   "execution_count": 57,
   "metadata": {},
   "outputs": [
    {
     "data": {
      "text/plain": [
       "818903           5\n",
       "1043983          5\n",
       "828112           5\n",
       "828106           5\n",
       "828087           5\n",
       "            ...   \n",
       "81922      1899135\n",
       "98562      1930439\n",
       "612183     2158064\n",
       "248637     2405653\n",
       "82139      2449942\n",
       "Name: numVotes, Length: 1180469, dtype: int64"
      ]
     },
     "execution_count": 57,
     "metadata": {},
     "output_type": "execute_result"
    }
   ],
   "source": [
    "imdb.numVotes.sort_values()"
   ]
  },
  {
   "cell_type": "code",
   "execution_count": null,
   "metadata": {},
   "outputs": [],
   "source": []
  },
  {
   "cell_type": "code",
   "execution_count": null,
   "metadata": {},
   "outputs": [],
   "source": []
  },
  {
   "cell_type": "code",
   "execution_count": null,
   "metadata": {},
   "outputs": [],
   "source": []
  },
  {
   "cell_type": "markdown",
   "metadata": {},
   "source": [
    "#### 3. Wie viele Filme liegen über dem Durchschnitt des Ratings?"
   ]
  },
  {
   "cell_type": "code",
   "execution_count": 8,
   "metadata": {},
   "outputs": [
    {
     "data": {
      "text/plain": [
       "6.922153059503989"
      ]
     },
     "execution_count": 8,
     "metadata": {},
     "output_type": "execute_result"
    }
   ],
   "source": [
    "# Der Durchschnitt der Ratings wird herausgegeben.\n",
    "imdb.averageRating.mean()"
   ]
  },
  {
   "cell_type": "code",
   "execution_count": 68,
   "metadata": {},
   "outputs": [],
   "source": [
    "# Der Durchschnitt wird aus Einfachheit zu 6.93 aufgerundet.\n",
    "\n",
    "gol = imdb[\"averageRating\"]\n",
    "dat = imdb\n",
    "\n",
    "def gol(imdb):\n",
    "    if imdb.averageRating > 6.93:\n",
    "        print(dat)\n",
    "        return True\n",
    "    if imdb.averageRating < 6.93:\n",
    "        return False  "
   ]
  },
  {
   "cell_type": "code",
   "execution_count": 58,
   "metadata": {},
   "outputs": [
    {
     "data": {
      "text/plain": [
       "count    1.180469e+06\n",
       "mean     6.922153e+00\n",
       "std      1.397129e+00\n",
       "min      1.000000e+00\n",
       "25%      6.200000e+00\n",
       "50%      7.100000e+00\n",
       "75%      7.900000e+00\n",
       "max      1.000000e+01\n",
       "Name: averageRating, dtype: float64"
      ]
     },
     "execution_count": 58,
     "metadata": {},
     "output_type": "execute_result"
    }
   ],
   "source": [
    "imdb.averageRating.describe()"
   ]
  },
  {
   "cell_type": "code",
   "execution_count": null,
   "metadata": {},
   "outputs": [],
   "source": []
  },
  {
   "cell_type": "code",
   "execution_count": null,
   "metadata": {},
   "outputs": [],
   "source": []
  }
 ],
 "metadata": {
  "kernelspec": {
   "display_name": "Python 3",
   "language": "python",
   "name": "python3"
  },
  "language_info": {
   "codemirror_mode": {
    "name": "ipython",
    "version": 3
   },
   "file_extension": ".py",
   "mimetype": "text/x-python",
   "name": "python",
   "nbconvert_exporter": "python",
   "pygments_lexer": "ipython3",
   "version": "3.8.5"
  }
 },
 "nbformat": 4,
 "nbformat_minor": 4
}
